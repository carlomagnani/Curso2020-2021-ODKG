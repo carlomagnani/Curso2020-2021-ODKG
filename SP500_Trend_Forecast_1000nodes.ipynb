{
  "nbformat": 4,
  "nbformat_minor": 0,
  "metadata": {
    "colab": {
      "name": "SP500 Trend Forecast 1.ipynb",
      "provenance": [],
      "collapsed_sections": [],
      "authorship_tag": "ABX9TyP0bAx9bQJ0U4kqjrHoQlWr",
      "include_colab_link": true
    },
    "kernelspec": {
      "name": "python3",
      "display_name": "Python 3"
    },
    "language_info": {
      "name": "python"
    },
    "accelerator": "GPU"
  },
  "cells": [
    {
      "cell_type": "markdown",
      "metadata": {
        "id": "view-in-github",
        "colab_type": "text"
      },
      "source": [
        "<a href=\"https://colab.research.google.com/github/carlomagnani/Curso2020-2021-ODKG/blob/master/SP500_Trend_Forecast_1000nodes.ipynb\" target=\"_parent\"><img src=\"https://colab.research.google.com/assets/colab-badge.svg\" alt=\"Open In Colab\"/></a>"
      ]
    },
    {
      "cell_type": "code",
      "execution_count": 2,
      "metadata": {
        "colab": {
          "base_uri": "https://localhost:8080/"
        },
        "id": "KXjQW1eQC8go",
        "outputId": "85dcd9d8-4748-44bd-95cc-673a40f2f591"
      },
      "outputs": [
        {
          "output_type": "stream",
          "name": "stdout",
          "text": [
            "Tensorflow version: 2.8.0\n",
            "Mounted at /GoogleDrive\n"
          ]
        }
      ],
      "source": [
        "import tensorflow as tf\n",
        "from tensorflow import keras\n",
        "import pandas as pd\n",
        "import matplotlib.pyplot as plt\n",
        "import time\n",
        "import numpy as np\n",
        "\n",
        "print(\"Tensorflow version: \"+tf.__version__)\n",
        "\n",
        "#! pip install pmdarima\n",
        "\n",
        "# Google file system\n",
        "from google.colab import drive\n",
        "from sklearn.preprocessing import MinMaxScaler\n",
        "\n",
        "drive.mount('/GoogleDrive', force_remount=True)\n",
        "\n",
        "import math\n",
        "\n",
        "file =   \"/GoogleDrive/My Drive/S&P.xlsx\"\n",
        "dataset = pd.read_excel(file, sheet_name=\"ts\")"
      ]
    },
    {
      "cell_type": "code",
      "source": [
        "dataset['log_value'] = np.log(dataset['time'])\n",
        "dataset['date'] = pd.to_datetime(dataset['date'])\n",
        "dataset['log_ret'] = dataset['log_value'] - dataset['log_value'].shift(+1)\n",
        "dataset['lead_ret'] = dataset['log_ret'].shift(-1)\n",
        "dataset['lead_weekly_ret'] = dataset['lead_ret'].rolling(5).sum().shift(-5)\n",
        "dataset['sma_3'] = dataset['log_value'].rolling(3).mean()\n",
        "dataset['sma_5'] = dataset['log_value'].rolling(5).mean()\n",
        "dataset['sma_10'] = dataset['log_value'].rolling(10).mean()\n",
        "dataset['sma_20'] = dataset['log_value'].rolling(20).mean()\n",
        "dataset['sma_50'] = dataset['log_value'].rolling(50).mean()\n",
        "dataset['sma_100'] = dataset['log_value'].rolling(100).mean()\n",
        "dataset['sma_200'] = dataset['log_value'].rolling(200).mean()\n",
        "dataset['lead_weekly_ret_class'] = np.where(dataset['lead_weekly_ret']> 0, 1, 0)\n",
        "dataset['lead_ret_class'] = np.where(dataset['lead_ret']> 0, 1, 0)\n",
        "\n",
        "\n",
        "dataset['ema_200'] = dataset['log_value'].ewm(alpha = 0.01).mean()\n",
        "dataset['ema_50'] = dataset['log_value'].ewm(alpha = 0.0392).mean()\n",
        "dataset['ema_10'] = dataset['log_value'].ewm(alpha = 0.181).mean()\n",
        "dataset['ema_3'] = dataset['log_value'].ewm(alpha = 0.5).mean()\n",
        "\n",
        "dataset.pop('time')\n",
        "\n",
        "dataset.dropna(inplace = True)"
      ],
      "metadata": {
        "id": "PckS0gmMDI0a"
      },
      "execution_count": 3,
      "outputs": []
    },
    {
      "cell_type": "code",
      "source": [
        "plt.plot(dataset['log_value'])\n",
        "plt.plot(dataset['ma_3'])\n",
        "plt.plot(dataset['ma_20'])\n",
        "plt.plot(dataset['ma_100'])\n",
        "plt.plot(dataset['ma_1000'])"
      ],
      "metadata": {
        "colab": {
          "base_uri": "https://localhost:8080/",
          "height": 283
        },
        "id": "lZN5RclCDeMw",
        "outputId": "4ed09516-e8ee-45e4-8cc0-62182cf9f749"
      },
      "execution_count": 26,
      "outputs": [
        {
          "output_type": "execute_result",
          "data": {
            "text/plain": [
              "[<matplotlib.lines.Line2D at 0x7faf621cf1d0>]"
            ]
          },
          "metadata": {},
          "execution_count": 26
        },
        {
          "output_type": "display_data",
          "data": {
            "text/plain": [
              "<Figure size 432x288 with 1 Axes>"
            ],
            "image/png": "[encoded data removed]"
          },
          "metadata": {
            "needs_background": "light"
          }
        }
      ]
    },
    {
      "cell_type": "code",
      "source": [
        "#Signal Generation\n",
        "\n",
        "#Momentum Rule\n",
        "dataset['momentum_120'] = dataset['log_value'] - dataset['log_value'].shift(+200)\n",
        "dataset['momentum_121'] = dataset['log_value'].shift(+20) - dataset['log_value'].shift(+200)\n",
        "\n",
        "dataset['mom_120_rule'] = np.where(dataset['momentum_120']> 0, 1, 0)\n",
        "dataset['mom_121_rule'] = np.where(dataset['momentum_121']> 0, 1, 0)\n",
        "\n",
        "#MA Change of Direction Rule\n",
        "\n",
        "dataset['ma_200_cd_rule'] = np.where((dataset['sma_200']- dataset['sma_200'].shift(+1))>0,1,0)\n",
        "dataset['ma_20_cd_rule'] = np.where((dataset['sma_20']- dataset['sma_20'].shift(+1))>0,1,0)\n",
        "\n",
        "#PMA Rule\n",
        "\n",
        "dataset['pma_20'] = dataset['log_value'] - dataset['sma_20']      \n",
        "dataset['pma_100'] = dataset['log_value'] - dataset['sma_100']\n",
        "dataset['pma_200'] = dataset['log_value'] - dataset['sma_200']\n",
        "\n",
        "dataset['pma_20_rule'] = np.where(dataset['pma_20']>0, 1, 0)\n",
        "dataset['pma_100_rule'] = np.where(dataset['pma_100']>0, 1, 0)\n",
        "dataset['pma_200_rule'] = np.where(dataset['pma_200']>0, 1, 0)\n",
        "\n",
        "#MA Crossover Rule\n",
        "\n",
        "dataset['mac_3_10'] = dataset['sma_3'] - dataset['sma_10']\n",
        "dataset['mac_50_200'] = dataset['sma_50'] - dataset['sma_200']\n",
        "\n",
        "dataset['mac_3_10_rule'] = np.where(dataset['mac_3_10']>0, 1, 0)\n",
        "dataset['mac_50_200_rule'] = np.where(dataset['mac_50_200']>0, 1, 0)\n",
        "\n",
        "#Ma Convergence/Divergence Rule\n",
        "\n",
        "dataset['mac_ema_50_200'] = dataset['ema_50'] - dataset['ema_200']\n",
        "\n",
        "dataset['ema_mac_50_200'] = dataset['mac_ema_50_200'].ewm(alpha = 0.095).mean()\n",
        "\n",
        "dataset['macd_50_200'] = dataset['mac_ema_50_200'] - dataset['ema_mac_50_200']\n",
        "\n",
        "#plt.plot(dataset['macd_50_200'])\n",
        "\n",
        "dataset['macd_50_200_rule'] = np.where(dataset['macd_50_200']>0, 1, 0)"
      ],
      "metadata": {
        "id": "ZTHpCjotRCLV"
      },
      "execution_count": 4,
      "outputs": []
    },
    {
      "cell_type": "code",
      "source": [
        "rule_cols = [col for col in dataset.columns if 'rule' in col]\n",
        "\n",
        "col_names = ['log_ret']\n",
        "\n",
        "var_name = ['lead_weekly_ret_class']\n",
        "\n",
        "col_names = var_name + col_names + rule_cols\n",
        "\n",
        "#var_name = ['lead_weekly_ret_class']\n",
        "\n",
        "print(col_names)\n",
        "\n",
        "model_df = dataset[col_names]\n",
        "\n",
        "model_df.dropna(inplace = True)\n",
        "\n",
        "model_df\n"
      ],
      "metadata": {
        "colab": {
          "base_uri": "https://localhost:8080/",
          "height": 595
        },
        "id": "ez679axgxg8a",
        "outputId": "fde2d4d2-aae2-4c32-b3bf-d70431374dc4"
      },
      "execution_count": 5,
      "outputs": [
        {
          "output_type": "stream",
          "name": "stdout",
          "text": [
            "['lead_weekly_ret_class', 'log_ret', 'mom_120_rule', 'mom_121_rule', 'ma_200_cd_rule', 'ma_20_cd_rule', 'pma_20_rule', 'pma_100_rule', 'pma_200_rule', 'mac_3_10_rule', 'mac_50_200_rule', 'macd_50_200_rule']\n"
          ]
        },
        {
          "output_type": "stream",
          "name": "stderr",
          "text": [
            "/usr/local/lib/python3.7/dist-packages/pandas/util/_decorators.py:311: SettingWithCopyWarning: \n",
            "A value is trying to be set on a copy of a slice from a DataFrame\n",
            "\n",
            "See the caveats in the documentation: https://pandas.pydata.org/pandas-docs/stable/user_guide/indexing.html#returning-a-view-versus-a-copy\n",
            "  return func(*args, **kwargs)\n"
          ]
        },
        {
          "output_type": "execute_result",
          "data": {
            "text/plain": [
              "       lead_weekly_ret_class   log_ret  mom_120_rule  mom_121_rule  \\\n",
              "199                        1  0.003228             0             0   \n",
              "200                        1  0.003218             0             0   \n",
              "201                        0  0.002292             0             0   \n",
              "202                        1  0.005479             0             0   \n",
              "203                        0 -0.006854             0             0   \n",
              "...                      ...       ...           ...           ...   \n",
              "23651                      0  0.014846             1             1   \n",
              "23652                      0  0.022126             1             1   \n",
              "23653                      0 -0.002446             1             1   \n",
              "23654                      0 -0.015594             1             1   \n",
              "23655                      0  0.018471             1             1   \n",
              "\n",
              "       ma_200_cd_rule  ma_20_cd_rule  pma_20_rule  pma_100_rule  pma_200_rule  \\\n",
              "199                 0              0            1             1             1   \n",
              "200                 1              1            1             1             1   \n",
              "201                 1              1            1             1             1   \n",
              "202                 1              1            1             1             1   \n",
              "203                 1              1            1             1             1   \n",
              "...               ...            ...          ...           ...           ...   \n",
              "23651               1              0            0             0             0   \n",
              "23652               1              1            0             0             0   \n",
              "23653               1              0            0             0             0   \n",
              "23654               1              0            0             0             0   \n",
              "23655               1              0            0             0             0   \n",
              "\n",
              "       mac_3_10_rule  mac_50_200_rule  macd_50_200_rule  \n",
              "199                1                1                 0  \n",
              "200                1                1                 1  \n",
              "201                1                1                 1  \n",
              "202                1                1                 1  \n",
              "203                1                1                 1  \n",
              "...              ...              ...               ...  \n",
              "23651              0                1                 0  \n",
              "23652              0                1                 0  \n",
              "23653              0                1                 0  \n",
              "23654              0                1                 0  \n",
              "23655              1                1                 0  \n",
              "\n",
              "[23457 rows x 12 columns]"
            ],
            "text/html": [
              "\n",
              "  <div id=\"df-71e101ff-a2e4-407e-ba8a-42968686eab5\">\n",
              "    <div class=\"colab-df-container\">\n",
              "      <div>\n",
              "<style scoped>\n",
              "    .dataframe tbody tr th:only-of-type {\n",
              "        vertical-align: middle;\n",
              "    }\n",
              "\n",
              "    .dataframe tbody tr th {\n",
              "        vertical-align: top;\n",
              "    }\n",
              "\n",
              "    .dataframe thead th {\n",
              "        text-align: right;\n",
              "    }\n",
              "</style>\n",
              "<table border=\"1\" class=\"dataframe\">\n",
              "  <thead>\n",
              "    <tr style=\"text-align: right;\">\n",
              "      <th></th>\n",
              "      <th>lead_weekly_ret_class</th>\n",
              "      <th>log_ret</th>\n",
              "      <th>mom_120_rule</th>\n",
              "      <th>mom_121_rule</th>\n",
              "      <th>ma_200_cd_rule</th>\n",
              "      <th>ma_20_cd_rule</th>\n",
              "      <th>pma_20_rule</th>\n",
              "      <th>pma_100_rule</th>\n",
              "      <th>pma_200_rule</th>\n",
              "      <th>mac_3_10_rule</th>\n",
              "      <th>mac_50_200_rule</th>\n",
              "      <th>macd_50_200_rule</th>\n",
              "    </tr>\n",
              "  </thead>\n",
              "  <tbody>\n",
              "    <tr>\n",
              "      <th>199</th>\n",
              "      <td>1</td>\n",
              "      <td>0.003228</td>\n",
              "      <td>0</td>\n",
              "      <td>0</td>\n",
              "      <td>0</td>\n",
              "      <td>0</td>\n",
              "      <td>1</td>\n",
              "      <td>1</td>\n",
              "      <td>1</td>\n",
              "      <td>1</td>\n",
              "      <td>1</td>\n",
              "      <td>0</td>\n",
              "    </tr>\n",
              "    <tr>\n",
              "      <th>200</th>\n",
              "      <td>1</td>\n",
              "      <td>0.003218</td>\n",
              "      <td>0</td>\n",
              "      <td>0</td>\n",
              "      <td>1</td>\n",
              "      <td>1</td>\n",
              "      <td>1</td>\n",
              "      <td>1</td>\n",
              "      <td>1</td>\n",
              "      <td>1</td>\n",
              "      <td>1</td>\n",
              "      <td>1</td>\n",
              "    </tr>\n",
              "    <tr>\n",
              "      <th>201</th>\n",
              "      <td>0</td>\n",
              "      <td>0.002292</td>\n",
              "      <td>0</td>\n",
              "      <td>0</td>\n",
              "      <td>1</td>\n",
              "      <td>1</td>\n",
              "      <td>1</td>\n",
              "      <td>1</td>\n",
              "      <td>1</td>\n",
              "      <td>1</td>\n",
              "      <td>1</td>\n",
              "      <td>1</td>\n",
              "    </tr>\n",
              "    <tr>\n",
              "      <th>202</th>\n",
              "      <td>1</td>\n",
              "      <td>0.005479</td>\n",
              "      <td>0</td>\n",
              "      <td>0</td>\n",
              "      <td>1</td>\n",
              "      <td>1</td>\n",
              "      <td>1</td>\n",
              "      <td>1</td>\n",
              "      <td>1</td>\n",
              "      <td>1</td>\n",
              "      <td>1</td>\n",
              "      <td>1</td>\n",
              "    </tr>\n",
              "    <tr>\n",
              "      <th>203</th>\n",
              "      <td>0</td>\n",
              "      <td>-0.006854</td>\n",
              "      <td>0</td>\n",
              "      <td>0</td>\n",
              "      <td>1</td>\n",
              "      <td>1</td>\n",
              "      <td>1</td>\n",
              "      <td>1</td>\n",
              "      <td>1</td>\n",
              "      <td>1</td>\n",
              "      <td>1</td>\n",
              "      <td>1</td>\n",
              "    </tr>\n",
              "    <tr>\n",
              "      <th>...</th>\n",
              "      <td>...</td>\n",
              "      <td>...</td>\n",
              "      <td>...</td>\n",
              "      <td>...</td>\n",
              "      <td>...</td>\n",
              "      <td>...</td>\n",
              "      <td>...</td>\n",
              "      <td>...</td>\n",
              "      <td>...</td>\n",
              "      <td>...</td>\n",
              "      <td>...</td>\n",
              "      <td>...</td>\n",
              "    </tr>\n",
              "    <tr>\n",
              "      <th>23651</th>\n",
              "      <td>0</td>\n",
              "      <td>0.014846</td>\n",
              "      <td>1</td>\n",
              "      <td>1</td>\n",
              "      <td>1</td>\n",
              "      <td>0</td>\n",
              "      <td>0</td>\n",
              "      <td>0</td>\n",
              "      <td>0</td>\n",
              "      <td>0</td>\n",
              "      <td>1</td>\n",
              "      <td>0</td>\n",
              "    </tr>\n",
              "    <tr>\n",
              "      <th>23652</th>\n",
              "      <td>0</td>\n",
              "      <td>0.022126</td>\n",
              "      <td>1</td>\n",
              "      <td>1</td>\n",
              "      <td>1</td>\n",
              "      <td>1</td>\n",
              "      <td>0</td>\n",
              "      <td>0</td>\n",
              "      <td>0</td>\n",
              "      <td>0</td>\n",
              "      <td>1</td>\n",
              "      <td>0</td>\n",
              "    </tr>\n",
              "    <tr>\n",
              "      <th>23653</th>\n",
              "      <td>0</td>\n",
              "      <td>-0.002446</td>\n",
              "      <td>1</td>\n",
              "      <td>1</td>\n",
              "      <td>1</td>\n",
              "      <td>0</td>\n",
              "      <td>0</td>\n",
              "      <td>0</td>\n",
              "      <td>0</td>\n",
              "      <td>0</td>\n",
              "      <td>1</td>\n",
              "      <td>0</td>\n",
              "    </tr>\n",
              "    <tr>\n",
              "      <th>23654</th>\n",
              "      <td>0</td>\n",
              "      <td>-0.015594</td>\n",
              "      <td>1</td>\n",
              "      <td>1</td>\n",
              "      <td>1</td>\n",
              "      <td>0</td>\n",
              "      <td>0</td>\n",
              "      <td>0</td>\n",
              "      <td>0</td>\n",
              "      <td>0</td>\n",
              "      <td>1</td>\n",
              "      <td>0</td>\n",
              "    </tr>\n",
              "    <tr>\n",
              "      <th>23655</th>\n",
              "      <td>0</td>\n",
              "      <td>0.018471</td>\n",
              "      <td>1</td>\n",
              "      <td>1</td>\n",
              "      <td>1</td>\n",
              "      <td>0</td>\n",
              "      <td>0</td>\n",
              "      <td>0</td>\n",
              "      <td>0</td>\n",
              "      <td>1</td>\n",
              "      <td>1</td>\n",
              "      <td>0</td>\n",
              "    </tr>\n",
              "  </tbody>\n",
              "</table>\n",
              "<p>23457 rows × 12 columns</p>\n",
              "</div>\n",
              "      <button class=\"colab-df-convert\" onclick=\"convertToInteractive('df-71e101ff-a2e4-407e-ba8a-42968686eab5')\"\n",
              "              title=\"Convert this dataframe to an interactive table.\"\n",
              "              style=\"display:none;\">\n",
              "        \n",
              "  <svg xmlns=\"http://www.w3.org/2000/svg\" height=\"24px\"viewBox=\"0 0 24 24\"\n",
              "       width=\"24px\">\n",
              "    <path d=\"M0 0h24v24H0V0z\" fill=\"none\"/>\n",
              "    <path d=\"M18.56 5.44l.94 2.06.94-2.06 2.06-.94-2.06-.94-.94-2.06-.94 2.06-2.06.94zm-11 1L8.5 8.5l.94-2.06 2.06-.94-2.06-.94L8.5 2.5l-.94 2.06-2.06.94zm10 10l.94 2.06.94-2.06 2.06-.94-2.06-.94-.94-2.06-.94 2.06-2.06.94z\"/><path d=\"M17.41 7.96l-1.37-1.37c-.4-.4-.92-.59-1.43-.59-.52 0-1.04.2-1.43.59L10.3 9.45l-7.72 7.72c-.78.78-.78 2.05 0 2.83L4 21.41c.39.39.9.59 1.41.59.51 0 1.02-.2 1.41-.59l7.78-7.78 2.81-2.81c.8-.78.8-2.07 0-2.86zM5.41 20L4 18.59l7.72-7.72 1.47 1.35L5.41 20z\"/>\n",
              "  </svg>\n",
              "      </button>\n",
              "      \n",
              "  <style>\n",
              "    .colab-df-container {\n",
              "      display:flex;\n",
              "      flex-wrap:wrap;\n",
              "      gap: 12px;\n",
              "    }\n",
              "\n",
              "    .colab-df-convert {\n",
              "      background-color: #E8F0FE;\n",
              "      border: none;\n",
              "      border-radius: 50%;\n",
              "      cursor: pointer;\n",
              "      display: none;\n",
              "      fill: #1967D2;\n",
              "      height: 32px;\n",
              "      padding: 0 0 0 0;\n",
              "      width: 32px;\n",
              "    }\n",
              "\n",
              "    .colab-df-convert:hover {\n",
              "      background-color: #E2EBFA;\n",
              "      box-shadow: 0px 1px 2px rgba(60, 64, 67, 0.3), 0px 1px 3px 1px rgba(60, 64, 67, 0.15);\n",
              "      fill: #174EA6;\n",
              "    }\n",
              "\n",
              "    [theme=dark] .colab-df-convert {\n",
              "      background-color: #3B4455;\n",
              "      fill: #D2E3FC;\n",
              "    }\n",
              "\n",
              "    [theme=dark] .colab-df-convert:hover {\n",
              "      background-color: #434B5C;\n",
              "      box-shadow: 0px 1px 3px 1px rgba(0, 0, 0, 0.15);\n",
              "      filter: drop-shadow(0px 1px 2px rgba(0, 0, 0, 0.3));\n",
              "      fill: #FFFFFF;\n",
              "    }\n",
              "  </style>\n",
              "\n",
              "      <script>\n",
              "        const buttonEl =\n",
              "          document.querySelector('#df-71e101ff-a2e4-407e-ba8a-42968686eab5 button.colab-df-convert');\n",
              "        buttonEl.style.display =\n",
              "          google.colab.kernel.accessAllowed ? 'block' : 'none';\n",
              "\n",
              "        async function convertToInteractive(key) {\n",
              "          const element = document.querySelector('#df-71e101ff-a2e4-407e-ba8a-42968686eab5');\n",
              "          const dataTable =\n",
              "            await google.colab.kernel.invokeFunction('convertToInteractive',\n",
              "                                                     [key], {});\n",
              "          if (!dataTable) return;\n",
              "\n",
              "          const docLinkHtml = 'Like what you see? Visit the ' +\n",
              "            '<a target=\"_blank\" href=https://colab.research.google.com/notebooks/data_table.ipynb>data table notebook</a>'\n",
              "            + ' to learn more about interactive tables.';\n",
              "          element.innerHTML = '';\n",
              "          dataTable['output_type'] = 'display_data';\n",
              "          await google.colab.output.renderOutput(dataTable, element);\n",
              "          const docLink = document.createElement('div');\n",
              "          docLink.innerHTML = docLinkHtml;\n",
              "          element.appendChild(docLink);\n",
              "        }\n",
              "      </script>\n",
              "    </div>\n",
              "  </div>\n",
              "  "
            ]
          },
          "metadata": {},
          "execution_count": 5
        }
      ]
    },
    {
      "cell_type": "code",
      "source": [
        "#Correlation Matrix\n",
        "\n",
        "import seaborn as sn\n",
        "\n",
        "corr_mat = model_df.corr()\n",
        "sn.heatmap(corr_mat, annot=True)\n",
        "plt.show()"
      ],
      "metadata": {
        "colab": {
          "base_uri": "https://localhost:8080/",
          "height": 353
        },
        "id": "C2HH0ddi_Mv4",
        "outputId": "38b6d829-7b82-4f64-9873-c563c03df1ad"
      },
      "execution_count": 17,
      "outputs": [
        {
          "output_type": "display_data",
          "data": {
            "text/plain": [
              "<Figure size 432x288 with 2 Axes>"
            ],
            "image/png": "[encoded data removed]"
          },
          "metadata": {
            "needs_background": "light"
          }
        }
      ]
    },
    {
      "cell_type": "code",
      "source": [
        "#prepare Train-Test-Validate Dataset\n",
        "\n",
        "steps = 200\n",
        "\n",
        "values = model_df.values\n",
        "n_train_hours = len(model_df) * 0.8\n",
        "n_test_hours = len(model_df)*0.19\n",
        "\n",
        "n_train_hours = round(n_train_hours)\n",
        "n_test_hours = n_train_hours + round(n_test_hours)\n",
        "\n",
        "train = values[:n_train_hours, :]\n",
        "test = values[n_train_hours:n_test_hours, :]\n",
        "validation = values[n_test_hours:, :]\n",
        "\n",
        "# Creating a data structure with i time-steps and 1 output\n",
        "train_X = []\n",
        "train_y = []\n",
        "\n",
        "for i in range(steps, len(train)):\n",
        "    train_X.append(train[i-steps:i, 1:])\n",
        "    train_y.append(train[i, 0])\n",
        "\n",
        "train_X, train_y = np.array(train_X), np.array(train_y)\n",
        "\n",
        "train_X = np.reshape(train_X, (train_X.shape[0], train_X.shape[1], train_X.shape[2]))\n",
        "\n",
        "train_y = np.reshape(train_y, (train_y.shape[0],1))"
      ],
      "metadata": {
        "id": "HQY4o05CzisW"
      },
      "execution_count": 6,
      "outputs": []
    },
    {
      "cell_type": "code",
      "source": [
        "#Test\n",
        "\n",
        "test_X = []\n",
        "test_y = []\n",
        "\n",
        "for i in range(steps, len(test)):\n",
        "  test_X.append(test[i-steps:i, 1 :])\n",
        "  test_y.append(test[i, 0])\n",
        "\n",
        "test_X, test_y = np.array(test_X), np.array(test_y)\n",
        "\n",
        "test_X = np.reshape(test_X, (test_X.shape[0], test_X.shape[1], test_X.shape[2]))\n",
        "test_y = np.reshape(test_y, (test_y.shape[0],1))"
      ],
      "metadata": {
        "id": "erp_8Zlq29C-"
      },
      "execution_count": 7,
      "outputs": []
    },
    {
      "cell_type": "code",
      "source": [
        "#Validate\n",
        "\n",
        "validation_X = []\n",
        "validation_y = []\n",
        "\n",
        "for i in range(steps, len(validation)):\n",
        "  validation_X.append(validation[i-steps:i, 1 :])\n",
        "  validation_y.append(validation[i, 0])\n",
        "\n",
        "validation_X, validation_y = np.array(validation_X), np.array(validation_y)\n",
        "\n",
        "validation_X = np.reshape(validation_X, (validation_X.shape[0],validation_X.shape[1],validation_X.shape[2]))\n",
        "validation_y = np.reshape(validation_y, (validation_y.shape[0],1))\n",
        "\n",
        "print(train_X.shape, train_y.shape, test_X.shape, test_y.shape, validation_X.shape, validation_y.shape)\n"
      ],
      "metadata": {
        "colab": {
          "base_uri": "https://localhost:8080/"
        },
        "id": "2mjNUYwwGcz4",
        "outputId": "78cfae19-46cc-4c32-8c26-a22227a5a6bd"
      },
      "execution_count": 8,
      "outputs": [
        {
          "output_type": "stream",
          "name": "stdout",
          "text": [
            "(18566, 200, 11) (18566, 1) (4257, 200, 11) (4257, 1) (34, 200, 11) (34, 1)\n"
          ]
        }
      ]
    },
    {
      "cell_type": "code",
      "source": [
        ""
      ],
      "metadata": {
        "colab": {
          "base_uri": "https://localhost:8080/"
        },
        "id": "IN1JiQODjONU",
        "outputId": "aad8aeea-62c5-483c-8027-a00a0ef62516"
      },
      "execution_count": 50,
      "outputs": [
        {
          "output_type": "execute_result",
          "data": {
            "text/plain": [
              "array([1., 1., 1., ..., 0., 0., 0.])"
            ]
          },
          "metadata": {},
          "execution_count": 50
        }
      ]
    },
    {
      "cell_type": "code",
      "source": [
        "from keras.models import Sequential\n",
        "from keras.layers import Dense\n",
        "from keras.layers import LSTM\n",
        "from keras.layers import Dropout\n",
        "from keras.callbacks import EarlyStopping\n",
        "\n",
        "\n",
        "early_stopping = EarlyStopping(monitor='val_loss', patience=15, min_delta=0.001)\n",
        "\n",
        "model = Sequential()\n",
        "\n",
        "model.add(LSTM(1000, return_sequences=True, input_shape=(train_X.shape[1], train_X.shape[2])))\n",
        "model.add(Dropout(0.3))\n",
        "\n",
        "#Additional layers we researched and then didn't use due to poor performance\n",
        "model.add(LSTM(1000, return_sequences=True))\n",
        "model.add(Dropout(0.3))\n",
        "\n",
        "model.add(LSTM(1000, return_sequences=False))\n",
        "model.add(Dropout(0.3))\n",
        "\n",
        "model.add(Dense(units = 1, activation = 'sigmoid'))\n",
        "\n",
        "model.compile(loss='binary_crossentropy', optimizer='adam', metrics = 'accuracy')\n",
        "# fit network\n",
        "history = model.fit(train_X, train_y, epochs = 50, batch_size=32, validation_data = (test_X, test_y), verbose=2, shuffle=False, callbacks=[early_stopping])\n",
        "\n",
        "# plot history\n",
        "plt.plot(history.history['loss'], label='train')\n",
        "plt.plot(history.history['val_loss'], label='test')\n",
        "plt.legend()\n",
        "plt.show()"
      ],
      "metadata": {
        "colab": {
          "base_uri": "https://localhost:8080/",
          "height": 872
        },
        "id": "2cxtY9Fqirf0",
        "outputId": "4d55fdab-7dcc-4577-e1c4-ace7569c84e3"
      },
      "execution_count": 9,
      "outputs": [
        {
          "output_type": "stream",
          "name": "stdout",
          "text": [
            "Epoch 1/50\n",
            "581/581 - 177s - loss: 0.7333 - accuracy: 0.5268 - val_loss: 0.7038 - val_accuracy: 0.4104 - 177s/epoch - 305ms/step\n",
            "Epoch 2/50\n",
            "581/581 - 181s - loss: 0.7292 - accuracy: 0.5274 - val_loss: 0.6989 - val_accuracy: 0.4116 - 181s/epoch - 312ms/step\n",
            "Epoch 3/50\n",
            "581/581 - 182s - loss: 0.7168 - accuracy: 0.5355 - val_loss: 0.7461 - val_accuracy: 0.4104 - 182s/epoch - 314ms/step\n",
            "Epoch 4/50\n",
            "581/581 - 182s - loss: 0.7115 - accuracy: 0.5214 - val_loss: 0.8384 - val_accuracy: 0.4104 - 182s/epoch - 314ms/step\n",
            "Epoch 5/50\n",
            "581/581 - 182s - loss: 0.7119 - accuracy: 0.5256 - val_loss: 0.7375 - val_accuracy: 0.4104 - 182s/epoch - 314ms/step\n",
            "Epoch 6/50\n",
            "581/581 - 183s - loss: 0.7059 - accuracy: 0.5233 - val_loss: 0.7613 - val_accuracy: 0.4104 - 183s/epoch - 315ms/step\n",
            "Epoch 7/50\n",
            "581/581 - 183s - loss: 0.7078 - accuracy: 0.5225 - val_loss: 0.7171 - val_accuracy: 0.4104 - 183s/epoch - 315ms/step\n",
            "Epoch 8/50\n",
            "581/581 - 183s - loss: 0.7025 - accuracy: 0.5246 - val_loss: 0.7243 - val_accuracy: 0.4104 - 183s/epoch - 315ms/step\n",
            "Epoch 9/50\n",
            "581/581 - 183s - loss: 0.7009 - accuracy: 0.5242 - val_loss: 0.7322 - val_accuracy: 0.4104 - 183s/epoch - 315ms/step\n",
            "Epoch 10/50\n",
            "581/581 - 183s - loss: 0.6989 - accuracy: 0.5260 - val_loss: 0.7386 - val_accuracy: 0.4104 - 183s/epoch - 315ms/step\n",
            "Epoch 11/50\n",
            "581/581 - 183s - loss: 0.6965 - accuracy: 0.5287 - val_loss: 0.7423 - val_accuracy: 0.4104 - 183s/epoch - 316ms/step\n",
            "Epoch 12/50\n",
            "581/581 - 184s - loss: 0.6955 - accuracy: 0.5299 - val_loss: 0.7453 - val_accuracy: 0.4104 - 184s/epoch - 317ms/step\n",
            "Epoch 13/50\n",
            "581/581 - 183s - loss: 0.6941 - accuracy: 0.5340 - val_loss: 0.7435 - val_accuracy: 0.4104 - 183s/epoch - 316ms/step\n",
            "Epoch 14/50\n",
            "581/581 - 183s - loss: 0.6934 - accuracy: 0.5358 - val_loss: 0.7429 - val_accuracy: 0.4104 - 183s/epoch - 315ms/step\n",
            "Epoch 15/50\n",
            "581/581 - 183s - loss: 0.6935 - accuracy: 0.5385 - val_loss: 0.7432 - val_accuracy: 0.4104 - 183s/epoch - 315ms/step\n",
            "Epoch 16/50\n",
            "581/581 - 183s - loss: 0.6926 - accuracy: 0.5386 - val_loss: 0.7429 - val_accuracy: 0.4104 - 183s/epoch - 315ms/step\n",
            "Epoch 17/50\n",
            "581/581 - 183s - loss: 0.6924 - accuracy: 0.5406 - val_loss: 0.7413 - val_accuracy: 0.4104 - 183s/epoch - 315ms/step\n"
          ]
        },
        {
          "output_type": "display_data",
          "data": {
            "text/plain": [
              "<Figure size 432x288 with 1 Axes>"
            ],
            "image/png": "[encoded data removed]"
          },
          "metadata": {
            "needs_background": "light"
          }
        }
      ]
    },
    {
      "cell_type": "code",
      "source": [
        "from sklearn.metrics import classification_report, confusion_matrix\n",
        "\n",
        "yhat = (model.predict(validation_X) > 0.5).astype(\"int32\")\n",
        "\n",
        "yhat = yhat.reshape(yhat.shape[0],yhat.shape[1])\n",
        "\n",
        "validation_y = validation_y.reshape(validation_y.shape[0],1)\n",
        "\n",
        "print(confusion_matrix(pd.DataFrame(validation_y).iloc[:,0], pd.DataFrame(yhat).iloc[:,0]))\n",
        "#print('Classification Report')\n",
        "#target_names = ['Cats', 'Dogs', 'Horse']\n",
        "print(classification_report(pd.DataFrame(validation_y).iloc[:,0], pd.DataFrame(yhat).iloc[:,0], target_names = ['0', '1']))\n",
        "\n",
        "#print(yhat, validation_y)"
      ],
      "metadata": {
        "colab": {
          "base_uri": "https://localhost:8080/"
        },
        "id": "j4MwCoEJAUB9",
        "outputId": "55e4606a-c04c-4047-9499-26c2ee73c44d"
      },
      "execution_count": 9,
      "outputs": [
        {
          "output_type": "stream",
          "name": "stdout",
          "text": [
            "[[  0  91]\n",
            " [  0 123]]\n",
            "              precision    recall  f1-score   support\n",
            "\n",
            "           0       0.00      0.00      0.00        91\n",
            "           1       0.57      1.00      0.73       123\n",
            "\n",
            "    accuracy                           0.57       214\n",
            "   macro avg       0.29      0.50      0.36       214\n",
            "weighted avg       0.33      0.57      0.42       214\n",
            "\n"
          ]
        },
        {
          "output_type": "stream",
          "name": "stderr",
          "text": [
            "/usr/local/lib/python3.7/dist-packages/sklearn/metrics/_classification.py:1318: UndefinedMetricWarning: Precision and F-score are ill-defined and being set to 0.0 in labels with no predicted samples. Use `zero_division` parameter to control this behavior.\n",
            "  _warn_prf(average, modifier, msg_start, len(result))\n",
            "/usr/local/lib/python3.7/dist-packages/sklearn/metrics/_classification.py:1318: UndefinedMetricWarning: Precision and F-score are ill-defined and being set to 0.0 in labels with no predicted samples. Use `zero_division` parameter to control this behavior.\n",
            "  _warn_prf(average, modifier, msg_start, len(result))\n",
            "/usr/local/lib/python3.7/dist-packages/sklearn/metrics/_classification.py:1318: UndefinedMetricWarning: Precision and F-score are ill-defined and being set to 0.0 in labels with no predicted samples. Use `zero_division` parameter to control this behavior.\n",
            "  _warn_prf(average, modifier, msg_start, len(result))\n"
          ]
        }
      ]
    },
    {
      "cell_type": "code",
      "source": [
        ""
      ],
      "metadata": {
        "id": "Ku7fvIxohop9"
      },
      "execution_count": null,
      "outputs": []
    }
  ]
}